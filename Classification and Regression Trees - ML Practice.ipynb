{
 "cells": [
  {
   "metadata": {},
   "cell_type": "markdown",
   "source": [
    "Classification and Regression Trees // ML Practice\n",
    "----"
   ],
   "id": "1c46dc27a013f3ca"
  },
  {
   "metadata": {
    "ExecuteTime": {
     "end_time": "2025-08-07T20:18:28.766357Z",
     "start_time": "2025-08-07T20:18:12.102666Z"
    }
   },
   "cell_type": "code",
   "source": [
    "import numpy as np\n",
    "import pandas as pd\n",
    "import matplotlib.pyplot as plt\n",
    "import warnings\n",
    "warnings.filterwarnings('ignore')"
   ],
   "id": "c0cc57f6724db32b",
   "outputs": [],
   "execution_count": 1
  },
  {
   "metadata": {},
   "cell_type": "markdown",
   "source": [
    "Training a Basic Classification Tree on Tumor Data\n",
    "----\n",
    "Train a classification tree to predict whether a tumor is malignant or benign using two features: radius_mean and concave points_mean. The data is already split into training and testing sets, with `X_train` and `y_train` used for training, and `X_test` and `y_test` reserved for evaluation. Use a fixed random seed (SEED = 1) to ensure reproducibility. Fit the decision tree classifier to the training data and prepare it for evaluation on the test set."
   ],
   "id": "ae5723e0a61d3bb2"
  },
  {
   "metadata": {},
   "cell_type": "markdown",
   "source": "Prepping Dataset",
   "id": "e20d62b7026f7438"
  },
  {
   "metadata": {
    "ExecuteTime": {
     "end_time": "2025-08-07T20:18:28.983489Z",
     "start_time": "2025-08-07T20:18:28.806139Z"
    }
   },
   "cell_type": "code",
   "source": [
    "cancer_df = pd.read_csv(r\"C:\\Users\\Emigb\\Documents\\Data Science\\datasets\\wbc.csv\")\n",
    "cancer_df.head()"
   ],
   "id": "433c9680b8a6b712",
   "outputs": [
    {
     "data": {
      "text/plain": [
       "         id diagnosis  radius_mean  texture_mean  perimeter_mean  area_mean  \\\n",
       "0    842302         M        17.99         10.38          122.80     1001.0   \n",
       "1    842517         M        20.57         17.77          132.90     1326.0   \n",
       "2  84300903         M        19.69         21.25          130.00     1203.0   \n",
       "3  84348301         M        11.42         20.38           77.58      386.1   \n",
       "4  84358402         M        20.29         14.34          135.10     1297.0   \n",
       "\n",
       "   smoothness_mean  compactness_mean  concavity_mean  concave points_mean  \\\n",
       "0          0.11840           0.27760          0.3001              0.14710   \n",
       "1          0.08474           0.07864          0.0869              0.07017   \n",
       "2          0.10960           0.15990          0.1974              0.12790   \n",
       "3          0.14250           0.28390          0.2414              0.10520   \n",
       "4          0.10030           0.13280          0.1980              0.10430   \n",
       "\n",
       "   ...  texture_worst  perimeter_worst  area_worst  smoothness_worst  \\\n",
       "0  ...          17.33           184.60      2019.0            0.1622   \n",
       "1  ...          23.41           158.80      1956.0            0.1238   \n",
       "2  ...          25.53           152.50      1709.0            0.1444   \n",
       "3  ...          26.50            98.87       567.7            0.2098   \n",
       "4  ...          16.67           152.20      1575.0            0.1374   \n",
       "\n",
       "   compactness_worst  concavity_worst  concave points_worst  symmetry_worst  \\\n",
       "0             0.6656           0.7119                0.2654          0.4601   \n",
       "1             0.1866           0.2416                0.1860          0.2750   \n",
       "2             0.4245           0.4504                0.2430          0.3613   \n",
       "3             0.8663           0.6869                0.2575          0.6638   \n",
       "4             0.2050           0.4000                0.1625          0.2364   \n",
       "\n",
       "   fractal_dimension_worst  Unnamed: 32  \n",
       "0                  0.11890          NaN  \n",
       "1                  0.08902          NaN  \n",
       "2                  0.08758          NaN  \n",
       "3                  0.17300          NaN  \n",
       "4                  0.07678          NaN  \n",
       "\n",
       "[5 rows x 33 columns]"
      ],
      "text/html": [
       "<div>\n",
       "<style scoped>\n",
       "    .dataframe tbody tr th:only-of-type {\n",
       "        vertical-align: middle;\n",
       "    }\n",
       "\n",
       "    .dataframe tbody tr th {\n",
       "        vertical-align: top;\n",
       "    }\n",
       "\n",
       "    .dataframe thead th {\n",
       "        text-align: right;\n",
       "    }\n",
       "</style>\n",
       "<table border=\"1\" class=\"dataframe\">\n",
       "  <thead>\n",
       "    <tr style=\"text-align: right;\">\n",
       "      <th></th>\n",
       "      <th>id</th>\n",
       "      <th>diagnosis</th>\n",
       "      <th>radius_mean</th>\n",
       "      <th>texture_mean</th>\n",
       "      <th>perimeter_mean</th>\n",
       "      <th>area_mean</th>\n",
       "      <th>smoothness_mean</th>\n",
       "      <th>compactness_mean</th>\n",
       "      <th>concavity_mean</th>\n",
       "      <th>concave points_mean</th>\n",
       "      <th>...</th>\n",
       "      <th>texture_worst</th>\n",
       "      <th>perimeter_worst</th>\n",
       "      <th>area_worst</th>\n",
       "      <th>smoothness_worst</th>\n",
       "      <th>compactness_worst</th>\n",
       "      <th>concavity_worst</th>\n",
       "      <th>concave points_worst</th>\n",
       "      <th>symmetry_worst</th>\n",
       "      <th>fractal_dimension_worst</th>\n",
       "      <th>Unnamed: 32</th>\n",
       "    </tr>\n",
       "  </thead>\n",
       "  <tbody>\n",
       "    <tr>\n",
       "      <th>0</th>\n",
       "      <td>842302</td>\n",
       "      <td>M</td>\n",
       "      <td>17.99</td>\n",
       "      <td>10.38</td>\n",
       "      <td>122.80</td>\n",
       "      <td>1001.0</td>\n",
       "      <td>0.11840</td>\n",
       "      <td>0.27760</td>\n",
       "      <td>0.3001</td>\n",
       "      <td>0.14710</td>\n",
       "      <td>...</td>\n",
       "      <td>17.33</td>\n",
       "      <td>184.60</td>\n",
       "      <td>2019.0</td>\n",
       "      <td>0.1622</td>\n",
       "      <td>0.6656</td>\n",
       "      <td>0.7119</td>\n",
       "      <td>0.2654</td>\n",
       "      <td>0.4601</td>\n",
       "      <td>0.11890</td>\n",
       "      <td>NaN</td>\n",
       "    </tr>\n",
       "    <tr>\n",
       "      <th>1</th>\n",
       "      <td>842517</td>\n",
       "      <td>M</td>\n",
       "      <td>20.57</td>\n",
       "      <td>17.77</td>\n",
       "      <td>132.90</td>\n",
       "      <td>1326.0</td>\n",
       "      <td>0.08474</td>\n",
       "      <td>0.07864</td>\n",
       "      <td>0.0869</td>\n",
       "      <td>0.07017</td>\n",
       "      <td>...</td>\n",
       "      <td>23.41</td>\n",
       "      <td>158.80</td>\n",
       "      <td>1956.0</td>\n",
       "      <td>0.1238</td>\n",
       "      <td>0.1866</td>\n",
       "      <td>0.2416</td>\n",
       "      <td>0.1860</td>\n",
       "      <td>0.2750</td>\n",
       "      <td>0.08902</td>\n",
       "      <td>NaN</td>\n",
       "    </tr>\n",
       "    <tr>\n",
       "      <th>2</th>\n",
       "      <td>84300903</td>\n",
       "      <td>M</td>\n",
       "      <td>19.69</td>\n",
       "      <td>21.25</td>\n",
       "      <td>130.00</td>\n",
       "      <td>1203.0</td>\n",
       "      <td>0.10960</td>\n",
       "      <td>0.15990</td>\n",
       "      <td>0.1974</td>\n",
       "      <td>0.12790</td>\n",
       "      <td>...</td>\n",
       "      <td>25.53</td>\n",
       "      <td>152.50</td>\n",
       "      <td>1709.0</td>\n",
       "      <td>0.1444</td>\n",
       "      <td>0.4245</td>\n",
       "      <td>0.4504</td>\n",
       "      <td>0.2430</td>\n",
       "      <td>0.3613</td>\n",
       "      <td>0.08758</td>\n",
       "      <td>NaN</td>\n",
       "    </tr>\n",
       "    <tr>\n",
       "      <th>3</th>\n",
       "      <td>84348301</td>\n",
       "      <td>M</td>\n",
       "      <td>11.42</td>\n",
       "      <td>20.38</td>\n",
       "      <td>77.58</td>\n",
       "      <td>386.1</td>\n",
       "      <td>0.14250</td>\n",
       "      <td>0.28390</td>\n",
       "      <td>0.2414</td>\n",
       "      <td>0.10520</td>\n",
       "      <td>...</td>\n",
       "      <td>26.50</td>\n",
       "      <td>98.87</td>\n",
       "      <td>567.7</td>\n",
       "      <td>0.2098</td>\n",
       "      <td>0.8663</td>\n",
       "      <td>0.6869</td>\n",
       "      <td>0.2575</td>\n",
       "      <td>0.6638</td>\n",
       "      <td>0.17300</td>\n",
       "      <td>NaN</td>\n",
       "    </tr>\n",
       "    <tr>\n",
       "      <th>4</th>\n",
       "      <td>84358402</td>\n",
       "      <td>M</td>\n",
       "      <td>20.29</td>\n",
       "      <td>14.34</td>\n",
       "      <td>135.10</td>\n",
       "      <td>1297.0</td>\n",
       "      <td>0.10030</td>\n",
       "      <td>0.13280</td>\n",
       "      <td>0.1980</td>\n",
       "      <td>0.10430</td>\n",
       "      <td>...</td>\n",
       "      <td>16.67</td>\n",
       "      <td>152.20</td>\n",
       "      <td>1575.0</td>\n",
       "      <td>0.1374</td>\n",
       "      <td>0.2050</td>\n",
       "      <td>0.4000</td>\n",
       "      <td>0.1625</td>\n",
       "      <td>0.2364</td>\n",
       "      <td>0.07678</td>\n",
       "      <td>NaN</td>\n",
       "    </tr>\n",
       "  </tbody>\n",
       "</table>\n",
       "<p>5 rows × 33 columns</p>\n",
       "</div>"
      ]
     },
     "execution_count": 2,
     "metadata": {},
     "output_type": "execute_result"
    }
   ],
   "execution_count": 2
  },
  {
   "metadata": {
    "ExecuteTime": {
     "end_time": "2025-08-07T20:18:29.096751Z",
     "start_time": "2025-08-07T20:18:29.057049Z"
    }
   },
   "cell_type": "code",
   "source": [
    "cancer_data = cancer_df[['diagnosis', 'radius_mean', 'concave points_mean']]\n",
    "cancer_data.head()"
   ],
   "id": "e0c60d8a0ff6ecab",
   "outputs": [
    {
     "data": {
      "text/plain": [
       "  diagnosis  radius_mean  concave points_mean\n",
       "0         M        17.99              0.14710\n",
       "1         M        20.57              0.07017\n",
       "2         M        19.69              0.12790\n",
       "3         M        11.42              0.10520\n",
       "4         M        20.29              0.10430"
      ],
      "text/html": [
       "<div>\n",
       "<style scoped>\n",
       "    .dataframe tbody tr th:only-of-type {\n",
       "        vertical-align: middle;\n",
       "    }\n",
       "\n",
       "    .dataframe tbody tr th {\n",
       "        vertical-align: top;\n",
       "    }\n",
       "\n",
       "    .dataframe thead th {\n",
       "        text-align: right;\n",
       "    }\n",
       "</style>\n",
       "<table border=\"1\" class=\"dataframe\">\n",
       "  <thead>\n",
       "    <tr style=\"text-align: right;\">\n",
       "      <th></th>\n",
       "      <th>diagnosis</th>\n",
       "      <th>radius_mean</th>\n",
       "      <th>concave points_mean</th>\n",
       "    </tr>\n",
       "  </thead>\n",
       "  <tbody>\n",
       "    <tr>\n",
       "      <th>0</th>\n",
       "      <td>M</td>\n",
       "      <td>17.99</td>\n",
       "      <td>0.14710</td>\n",
       "    </tr>\n",
       "    <tr>\n",
       "      <th>1</th>\n",
       "      <td>M</td>\n",
       "      <td>20.57</td>\n",
       "      <td>0.07017</td>\n",
       "    </tr>\n",
       "    <tr>\n",
       "      <th>2</th>\n",
       "      <td>M</td>\n",
       "      <td>19.69</td>\n",
       "      <td>0.12790</td>\n",
       "    </tr>\n",
       "    <tr>\n",
       "      <th>3</th>\n",
       "      <td>M</td>\n",
       "      <td>11.42</td>\n",
       "      <td>0.10520</td>\n",
       "    </tr>\n",
       "    <tr>\n",
       "      <th>4</th>\n",
       "      <td>M</td>\n",
       "      <td>20.29</td>\n",
       "      <td>0.10430</td>\n",
       "    </tr>\n",
       "  </tbody>\n",
       "</table>\n",
       "</div>"
      ]
     },
     "execution_count": 3,
     "metadata": {},
     "output_type": "execute_result"
    }
   ],
   "execution_count": 3
  },
  {
   "metadata": {
    "ExecuteTime": {
     "end_time": "2025-08-07T20:18:29.230077Z",
     "start_time": "2025-08-07T20:18:29.180918Z"
    }
   },
   "cell_type": "code",
   "source": [
    "cancer_dum = pd.get_dummies(cancer_data['diagnosis'], drop_first=True).astype(int)\n",
    "cancer_dec = pd.concat([cancer_data, cancer_dum], axis=1)\n",
    "cancer_dec.head()"
   ],
   "id": "e96804d82bbe6f0f",
   "outputs": [
    {
     "data": {
      "text/plain": [
       "  diagnosis  radius_mean  concave points_mean  M\n",
       "0         M        17.99              0.14710  1\n",
       "1         M        20.57              0.07017  1\n",
       "2         M        19.69              0.12790  1\n",
       "3         M        11.42              0.10520  1\n",
       "4         M        20.29              0.10430  1"
      ],
      "text/html": [
       "<div>\n",
       "<style scoped>\n",
       "    .dataframe tbody tr th:only-of-type {\n",
       "        vertical-align: middle;\n",
       "    }\n",
       "\n",
       "    .dataframe tbody tr th {\n",
       "        vertical-align: top;\n",
       "    }\n",
       "\n",
       "    .dataframe thead th {\n",
       "        text-align: right;\n",
       "    }\n",
       "</style>\n",
       "<table border=\"1\" class=\"dataframe\">\n",
       "  <thead>\n",
       "    <tr style=\"text-align: right;\">\n",
       "      <th></th>\n",
       "      <th>diagnosis</th>\n",
       "      <th>radius_mean</th>\n",
       "      <th>concave points_mean</th>\n",
       "      <th>M</th>\n",
       "    </tr>\n",
       "  </thead>\n",
       "  <tbody>\n",
       "    <tr>\n",
       "      <th>0</th>\n",
       "      <td>M</td>\n",
       "      <td>17.99</td>\n",
       "      <td>0.14710</td>\n",
       "      <td>1</td>\n",
       "    </tr>\n",
       "    <tr>\n",
       "      <th>1</th>\n",
       "      <td>M</td>\n",
       "      <td>20.57</td>\n",
       "      <td>0.07017</td>\n",
       "      <td>1</td>\n",
       "    </tr>\n",
       "    <tr>\n",
       "      <th>2</th>\n",
       "      <td>M</td>\n",
       "      <td>19.69</td>\n",
       "      <td>0.12790</td>\n",
       "      <td>1</td>\n",
       "    </tr>\n",
       "    <tr>\n",
       "      <th>3</th>\n",
       "      <td>M</td>\n",
       "      <td>11.42</td>\n",
       "      <td>0.10520</td>\n",
       "      <td>1</td>\n",
       "    </tr>\n",
       "    <tr>\n",
       "      <th>4</th>\n",
       "      <td>M</td>\n",
       "      <td>20.29</td>\n",
       "      <td>0.10430</td>\n",
       "      <td>1</td>\n",
       "    </tr>\n",
       "  </tbody>\n",
       "</table>\n",
       "</div>"
      ]
     },
     "execution_count": 4,
     "metadata": {},
     "output_type": "execute_result"
    }
   ],
   "execution_count": 4
  },
  {
   "metadata": {
    "ExecuteTime": {
     "end_time": "2025-08-07T20:18:29.327220Z",
     "start_time": "2025-08-07T20:18:29.289600Z"
    }
   },
   "cell_type": "code",
   "source": [
    "cancer_dec.drop('diagnosis', axis=1, inplace=True)\n",
    "cancer_dec.head()"
   ],
   "id": "36f3668752e41552",
   "outputs": [
    {
     "data": {
      "text/plain": [
       "   radius_mean  concave points_mean  M\n",
       "0        17.99              0.14710  1\n",
       "1        20.57              0.07017  1\n",
       "2        19.69              0.12790  1\n",
       "3        11.42              0.10520  1\n",
       "4        20.29              0.10430  1"
      ],
      "text/html": [
       "<div>\n",
       "<style scoped>\n",
       "    .dataframe tbody tr th:only-of-type {\n",
       "        vertical-align: middle;\n",
       "    }\n",
       "\n",
       "    .dataframe tbody tr th {\n",
       "        vertical-align: top;\n",
       "    }\n",
       "\n",
       "    .dataframe thead th {\n",
       "        text-align: right;\n",
       "    }\n",
       "</style>\n",
       "<table border=\"1\" class=\"dataframe\">\n",
       "  <thead>\n",
       "    <tr style=\"text-align: right;\">\n",
       "      <th></th>\n",
       "      <th>radius_mean</th>\n",
       "      <th>concave points_mean</th>\n",
       "      <th>M</th>\n",
       "    </tr>\n",
       "  </thead>\n",
       "  <tbody>\n",
       "    <tr>\n",
       "      <th>0</th>\n",
       "      <td>17.99</td>\n",
       "      <td>0.14710</td>\n",
       "      <td>1</td>\n",
       "    </tr>\n",
       "    <tr>\n",
       "      <th>1</th>\n",
       "      <td>20.57</td>\n",
       "      <td>0.07017</td>\n",
       "      <td>1</td>\n",
       "    </tr>\n",
       "    <tr>\n",
       "      <th>2</th>\n",
       "      <td>19.69</td>\n",
       "      <td>0.12790</td>\n",
       "      <td>1</td>\n",
       "    </tr>\n",
       "    <tr>\n",
       "      <th>3</th>\n",
       "      <td>11.42</td>\n",
       "      <td>0.10520</td>\n",
       "      <td>1</td>\n",
       "    </tr>\n",
       "    <tr>\n",
       "      <th>4</th>\n",
       "      <td>20.29</td>\n",
       "      <td>0.10430</td>\n",
       "      <td>1</td>\n",
       "    </tr>\n",
       "  </tbody>\n",
       "</table>\n",
       "</div>"
      ]
     },
     "execution_count": 5,
     "metadata": {},
     "output_type": "execute_result"
    }
   ],
   "execution_count": 5
  },
  {
   "metadata": {
    "ExecuteTime": {
     "end_time": "2025-08-07T20:18:29.549306Z",
     "start_time": "2025-08-07T20:18:29.529919Z"
    }
   },
   "cell_type": "code",
   "source": [
    "X = cancer_dec.drop('M', axis=1).values\n",
    "y = cancer_dec['M'].values\n",
    "\n",
    "print(X.shape)\n",
    "print(y.shape)"
   ],
   "id": "e3b6625fbe3cdc07",
   "outputs": [
    {
     "name": "stdout",
     "output_type": "stream",
     "text": [
      "(569, 2)\n",
      "(569,)\n"
     ]
    }
   ],
   "execution_count": 6
  },
  {
   "metadata": {
    "ExecuteTime": {
     "end_time": "2025-08-07T20:18:56.123999Z",
     "start_time": "2025-08-07T20:18:29.648186Z"
    }
   },
   "cell_type": "code",
   "source": [
    "from sklearn.model_selection import train_test_split\n",
    "X_train, X_test, y_train, y_test = train_test_split(X,y,test_size = 0.3, random_state=21, stratify = y)"
   ],
   "id": "6f9bf8c1fc7a0889",
   "outputs": [],
   "execution_count": 7
  },
  {
   "metadata": {
    "ExecuteTime": {
     "end_time": "2025-08-07T20:18:59.041636Z",
     "start_time": "2025-08-07T20:18:56.139426Z"
    }
   },
   "cell_type": "code",
   "source": [
    "#1. Import DecisionTreeClassifier from sklearn.tree.\n",
    "from sklearn.tree import DecisionTreeClassifier\n",
    "\n",
    "#2. Instantiate a DecisionTreeClassifier dt of maximum depth equal to 6.\n",
    "dt = DecisionTreeClassifier(max_depth=6)\n",
    "\n",
    "#3. Fit dt to the training set.\n",
    "dt.fit(X_train, y_train)\n",
    "\n",
    "#4. Predict the test set labels and assign the result to y_pred.\n",
    "y_pred = dt.predict(X_test)\n",
    "print(y_pred[0:5])"
   ],
   "id": "aa7e9f55490c0671",
   "outputs": [
    {
     "name": "stdout",
     "output_type": "stream",
     "text": [
      "[1 1 1 1 1]\n"
     ]
    }
   ],
   "execution_count": 8
  },
  {
   "metadata": {},
   "cell_type": "markdown",
   "source": [
    "**Task: Evaluating the Classification Tree Model**\n",
    "---\n",
    "Evaluate the performance of the trained decision tree model `dt` using the test dataset. Use the `X_test` feature matrix to generate predictions and compare them with the true labels in `y_test`. Calculate the accuracy score, which represents the proportion of correct predictions made by the model on the test set. This gives a quick assessment of how well the model generalizes to unseen data.\n"
   ],
   "id": "1dbce43edcd83ecb"
  },
  {
   "metadata": {
    "ExecuteTime": {
     "end_time": "2025-08-07T20:18:59.076367Z",
     "start_time": "2025-08-07T20:18:59.061943Z"
    }
   },
   "cell_type": "code",
   "source": [
    "#1. Import the function accuracy_score from sklearn.metrics.\n",
    "from sklearn.metrics import accuracy_score\n",
    "\n",
    "#2. Predict the test set labels and assign the obtained array to y_pred.\n",
    "y_pred = dt.predict(X_test)\n",
    "\n",
    "#3. Evaluate the test set accuracy score of dt by calling accuracy_score() and assign the value to acc.\n",
    "acc = accuracy_score(y_test, y_pred)\n",
    "acc"
   ],
   "id": "76e919eb0e2884a6",
   "outputs": [
    {
     "data": {
      "text/plain": [
       "0.9239766081871345"
      ]
     },
     "execution_count": 9,
     "metadata": {},
     "output_type": "execute_result"
    }
   ],
   "execution_count": 9
  },
  {
   "metadata": {},
   "cell_type": "markdown",
   "source": [
    "Comparing Logistic Regression and Classification Tree Decision Boundaries\n",
    "----\n",
    "Compare the behavior of a classification tree and a logistic regression model by visualizing their decision regions. Fit both models to the training data using `X_train` and `y_train`, then use the plot_labeled_decision_regions() function to display their decision boundaries side by side. Observe how the classification tree creates flexible, box-like regions while logistic regression draws a single straight line to separate the classes. This comparison helps highlight the differences in how both models partition the feature space."
   ],
   "id": "fe4adf11ef875900"
  },
  {
   "metadata": {
    "ExecuteTime": {
     "end_time": "2025-08-07T20:18:59.914049Z",
     "start_time": "2025-08-07T20:18:59.102001Z"
    }
   },
   "cell_type": "code",
   "source": [
    "import numpy as np\n",
    "import matplotlib.pyplot as plt\n",
    "from mlxtend.plotting import plot_decision_regions\n",
    "\n",
    "def plot_labeled_decision_regions(X, y, models):\n",
    "    for clf in models:\n",
    "        # Pass the current model to mlxtend.plotting.plot_decision_regions()\n",
    "        plot_decision_regions(np.array(X), np.array(y), clf=clf, legend=2)\n",
    "\n",
    "        # Add labels to the axes\n",
    "        plt.xlabel(X.columns[0])\n",
    "        plt.ylabel(X.columns[1])\n",
    "\n",
    "        # Set the title to be the name of the current classifier\n",
    "        plt.title(str(clf).split('(')[0])\n",
    "\n",
    "        # Show the plot\n",
    "        plt.show()"
   ],
   "id": "e43d325474b4bea4",
   "outputs": [],
   "execution_count": 10
  },
  {
   "metadata": {
    "ExecuteTime": {
     "end_time": "2025-08-07T20:19:01.955735Z",
     "start_time": "2025-08-07T20:18:59.927425Z"
    }
   },
   "cell_type": "code",
   "source": [
    "#1. Import LogisticRegression from sklearn.linear_model.\n",
    "from sklearn.linear_model import LogisticRegression\n",
    "\n",
    "#2. Instantiate a LogisticRegression model and assign it to logreg.\n",
    "logreg = LogisticRegression()\n",
    "\n",
    "#3. Fit logreg to the training set.\n",
    "logreg.fit(X_train, y_train)\n",
    "\n",
    "#4. Review the plot generated by plot_labeled_decision_regions().\n",
    "clfs = [logreg, dt]\n",
    "\n",
    "plot_labeled_decision_regions(pd.DataFrame(X_test, columns=['radius_mean', 'concave points_mean']), y_test, clfs)\n"
   ],
   "id": "a4c4812542edb762",
   "outputs": [
    {
     "data": {
      "text/plain": [
       "<Figure size 640x480 with 1 Axes>"
      ],
      "image/png": "[encoded data removed]"
     },
     "metadata": {},
     "output_type": "display_data"
    },
    {
     "data": {
      "text/plain": [
       "<Figure size 640x480 with 1 Axes>"
      ],
      "image/png": "[encoded data removed]"
     },
     "metadata": {},
     "output_type": "display_data"
    }
   ],
   "execution_count": 11
  },
  {
   "metadata": {},
   "cell_type": "markdown",
   "source": [
    "Training a Classification Tree Using Entropy\n",
    "----\n",
    "Train a classification tree on the Wisconsin Breast Cancer dataset using entropy as the splitting criterion. Use all 30 available features in the dataset. Fit the model to the training data using X_train and y_train. Specifying entropy as the criterion will guide the tree to split based on information gain, helping it select the most informative features at each step."
   ],
   "id": "e66612cfe10d7354"
  },
  {
   "metadata": {
    "ExecuteTime": {
     "end_time": "2025-08-07T20:30:35.759654Z",
     "start_time": "2025-08-07T20:30:35.707244Z"
    }
   },
   "cell_type": "code",
   "source": [
    "#1. Import DecisionTreeClassifier from sklearn.tree.\n",
    "from sklearn.tree import DecisionTreeClassifier\n",
    "\n",
    "#2. Instantiate a DecisionTreeClassifier dt_entropy with a maximum depth of 8.\n",
    "#3. Set the information criterion to 'entropy'.\n",
    "dt_entropy = DecisionTreeClassifier(max_depth = 8, criterion='entropy', random_state = 1)\n",
    "\n",
    "#4. Fit dt_entropy on the training set.\n",
    "dt_entropy.fit(X_train, y_train)\n",
    "\n",
    "#Predict the test set labels of dt_entropy and assign the result to y_pred.\n",
    "y_pred = dt_entropy.predict(X_test)\n",
    "\n",
    "#. Evaluate the test set accuracy of dt_entropy and assign the result to accuracy_entropy.\n",
    "accuracy_entropy = accuracy_score(y_test, y_pred)"
   ],
   "id": "164b110569399d29",
   "outputs": [],
   "execution_count": 15
  },
  {
   "metadata": {},
   "cell_type": "markdown",
   "source": [
    "Comparing Entropy and Gini Index in Classification Trees\n",
    "----\n",
    "Evaluate and compare the performance of two classification trees trained on the same dataset—one using entropy (`dt_entropy`) and the other using the Gini index (`dt_gini`) as the splitting criterion. Use the test data (`X_test` and `y_test`) to calculate the accuracy of dt_entropy. Then compare this result with accuracy_gini to see if there’s any noticeable difference in performance between the two criteria."
   ],
   "id": "4c7a467cf7e7e790"
  },
  {
   "metadata": {
    "ExecuteTime": {
     "end_time": "2025-08-07T20:33:44.740544Z",
     "start_time": "2025-08-07T20:33:44.719742Z"
    }
   },
   "cell_type": "code",
   "source": [
    "dt_gini = DecisionTreeClassifier(max_depth = 8, criterion='gini', random_state = 1)\n",
    "\n",
    "dt_gini.fit(X_train, y_train)\n",
    "\n",
    "y_pred_gini = dt_gini.predict(X_test)\n",
    "\n",
    "accuracy_gini = accuracy_score(y_test, y_pred_gini)\n",
    "\n",
    "print('Accuracy Score For Gini Criterion:{:.3f}'.format(accuracy_gini))\n",
    "\n",
    "print('Accuracy Score For Entropy Criterion:{:.3f}'.format(accuracy_entropy))\n"
   ],
   "id": "8851d33a4cc750d5",
   "outputs": [
    {
     "name": "stdout",
     "output_type": "stream",
     "text": [
      "Accuracy Score For Gini Criterion:0.906\n",
      "Accuracy Score For Entropy Criterion:0.883\n"
     ]
    }
   ],
   "execution_count": 19
  },
  {
   "metadata": {},
   "cell_type": "code",
   "outputs": [],
   "execution_count": null,
   "source": "",
   "id": "c96a7b43195f8b8c"
  }
 ],
 "metadata": {
  "kernelspec": {
   "display_name": "Python 3",
   "language": "python",
   "name": "python3"
  },
  "language_info": {
   "codemirror_mode": {
    "name": "ipython",
    "version": 2
   },
   "file_extension": ".py",
   "mimetype": "text/x-python",
   "name": "python",
   "nbconvert_exporter": "python",
   "pygments_lexer": "ipython2",
   "version": "2.7.6"
  }
 },
 "nbformat": 4,
 "nbformat_minor": 5
}
