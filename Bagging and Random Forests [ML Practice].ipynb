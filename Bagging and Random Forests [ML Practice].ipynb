{
 "cells": [
  {
   "metadata": {},
   "cell_type": "markdown",
   "source": "## **Bagging is an ensemble method involving training the same algorithm many times using different subsets sampled from the training data. In this chapter, you'll understand how bagging can be used to create a tree ensemble. You'll also learn how the random forests algorithm can lead to further ensemble diversity through randomization at the level of each split in the trees forming the ensemble.**",
   "id": "c2a94a9bf738a2d7"
  },
  {
   "cell_type": "code",
   "id": "initial_id",
   "metadata": {
    "collapsed": true,
    "ExecuteTime": {
     "end_time": "2025-08-19T21:06:26.744853Z",
     "start_time": "2025-08-19T21:06:26.736165Z"
    }
   },
   "source": [
    "import pandas as pd\n",
    "import numpy as np\n",
    "import matplotlib.pyplot as plt\n",
    "import warnings\n",
    "warnings.filterwarnings('ignore')"
   ],
   "outputs": [],
   "execution_count": 1
  },
  {
   "metadata": {},
   "cell_type": "markdown",
   "source": [
    "Defining a Bagging Classifier\n",
    "----\n",
    "\n",
    "Instantiate a Bagging classifier to predict liver disease.\n",
    "Use the dataset features, which include Albumin, Age, and Gender among others.\n",
    "Fit the Bagging classifier on `X_train` and `y_train`.\n",
    "Prepare it for evaluation on the test set in later steps.\n"
   ],
   "id": "c62749c603e8f3b4"
  },
  {
   "metadata": {
    "ExecuteTime": {
     "end_time": "2025-08-19T21:16:10.063306Z",
     "start_time": "2025-08-19T21:16:09.711828Z"
    }
   },
   "cell_type": "code",
   "source": [
    "liver = pd.read_csv(r\"C:\\Users\\Emigb\\Documents\\Data Science\\datasets\\Indian liver\\indian_liver_patient_preprocessed.csv\")\n",
    "liver.head()"
   ],
   "id": "a53dcd8995b398df",
   "outputs": [
    {
     "data": {
      "text/plain": [
       "   Unnamed: 0   Age_std  Total_Bilirubin_std  Direct_Bilirubin_std  \\\n",
       "0           0  1.247403            -0.420320             -0.495414   \n",
       "1           1  1.062306             1.218936              1.423518   \n",
       "2           2  1.062306             0.640375              0.926017   \n",
       "3           3  0.815511            -0.372106             -0.388807   \n",
       "4           4  1.679294             0.093956              0.179766   \n",
       "\n",
       "   Alkaline_Phosphotase_std  Alamine_Aminotransferase_std  \\\n",
       "0                 -0.428870                     -0.355832   \n",
       "1                  1.675083                     -0.093573   \n",
       "2                  0.816243                     -0.115428   \n",
       "3                 -0.449416                     -0.366760   \n",
       "4                 -0.395996                     -0.295731   \n",
       "\n",
       "   Aspartate_Aminotransferase_std  Total_Protiens_std  Albumin_std  \\\n",
       "0                       -0.319111            0.293722     0.203446   \n",
       "1                       -0.035962            0.939655     0.077462   \n",
       "2                       -0.146459            0.478274     0.203446   \n",
       "3                       -0.312205            0.293722     0.329431   \n",
       "4                       -0.177537            0.755102    -0.930414   \n",
       "\n",
       "   Albumin_and_Globulin_Ratio_std  Is_male_std  Liver_disease  \n",
       "0                       -0.147390            0              1  \n",
       "1                       -0.648461            1              1  \n",
       "2                       -0.178707            1              1  \n",
       "3                        0.165780            1              1  \n",
       "4                       -1.713237            1              1  "
      ],
      "text/html": [
       "<div>\n",
       "<style scoped>\n",
       "    .dataframe tbody tr th:only-of-type {\n",
       "        vertical-align: middle;\n",
       "    }\n",
       "\n",
       "    .dataframe tbody tr th {\n",
       "        vertical-align: top;\n",
       "    }\n",
       "\n",
       "    .dataframe thead th {\n",
       "        text-align: right;\n",
       "    }\n",
       "</style>\n",
       "<table border=\"1\" class=\"dataframe\">\n",
       "  <thead>\n",
       "    <tr style=\"text-align: right;\">\n",
       "      <th></th>\n",
       "      <th>Unnamed: 0</th>\n",
       "      <th>Age_std</th>\n",
       "      <th>Total_Bilirubin_std</th>\n",
       "      <th>Direct_Bilirubin_std</th>\n",
       "      <th>Alkaline_Phosphotase_std</th>\n",
       "      <th>Alamine_Aminotransferase_std</th>\n",
       "      <th>Aspartate_Aminotransferase_std</th>\n",
       "      <th>Total_Protiens_std</th>\n",
       "      <th>Albumin_std</th>\n",
       "      <th>Albumin_and_Globulin_Ratio_std</th>\n",
       "      <th>Is_male_std</th>\n",
       "      <th>Liver_disease</th>\n",
       "    </tr>\n",
       "  </thead>\n",
       "  <tbody>\n",
       "    <tr>\n",
       "      <th>0</th>\n",
       "      <td>0</td>\n",
       "      <td>1.247403</td>\n",
       "      <td>-0.420320</td>\n",
       "      <td>-0.495414</td>\n",
       "      <td>-0.428870</td>\n",
       "      <td>-0.355832</td>\n",
       "      <td>-0.319111</td>\n",
       "      <td>0.293722</td>\n",
       "      <td>0.203446</td>\n",
       "      <td>-0.147390</td>\n",
       "      <td>0</td>\n",
       "      <td>1</td>\n",
       "    </tr>\n",
       "    <tr>\n",
       "      <th>1</th>\n",
       "      <td>1</td>\n",
       "      <td>1.062306</td>\n",
       "      <td>1.218936</td>\n",
       "      <td>1.423518</td>\n",
       "      <td>1.675083</td>\n",
       "      <td>-0.093573</td>\n",
       "      <td>-0.035962</td>\n",
       "      <td>0.939655</td>\n",
       "      <td>0.077462</td>\n",
       "      <td>-0.648461</td>\n",
       "      <td>1</td>\n",
       "      <td>1</td>\n",
       "    </tr>\n",
       "    <tr>\n",
       "      <th>2</th>\n",
       "      <td>2</td>\n",
       "      <td>1.062306</td>\n",
       "      <td>0.640375</td>\n",
       "      <td>0.926017</td>\n",
       "      <td>0.816243</td>\n",
       "      <td>-0.115428</td>\n",
       "      <td>-0.146459</td>\n",
       "      <td>0.478274</td>\n",
       "      <td>0.203446</td>\n",
       "      <td>-0.178707</td>\n",
       "      <td>1</td>\n",
       "      <td>1</td>\n",
       "    </tr>\n",
       "    <tr>\n",
       "      <th>3</th>\n",
       "      <td>3</td>\n",
       "      <td>0.815511</td>\n",
       "      <td>-0.372106</td>\n",
       "      <td>-0.388807</td>\n",
       "      <td>-0.449416</td>\n",
       "      <td>-0.366760</td>\n",
       "      <td>-0.312205</td>\n",
       "      <td>0.293722</td>\n",
       "      <td>0.329431</td>\n",
       "      <td>0.165780</td>\n",
       "      <td>1</td>\n",
       "      <td>1</td>\n",
       "    </tr>\n",
       "    <tr>\n",
       "      <th>4</th>\n",
       "      <td>4</td>\n",
       "      <td>1.679294</td>\n",
       "      <td>0.093956</td>\n",
       "      <td>0.179766</td>\n",
       "      <td>-0.395996</td>\n",
       "      <td>-0.295731</td>\n",
       "      <td>-0.177537</td>\n",
       "      <td>0.755102</td>\n",
       "      <td>-0.930414</td>\n",
       "      <td>-1.713237</td>\n",
       "      <td>1</td>\n",
       "      <td>1</td>\n",
       "    </tr>\n",
       "  </tbody>\n",
       "</table>\n",
       "</div>"
      ]
     },
     "execution_count": 5,
     "metadata": {},
     "output_type": "execute_result"
    }
   ],
   "execution_count": 5
  },
  {
   "metadata": {
    "ExecuteTime": {
     "end_time": "2025-08-19T21:17:07.826997Z",
     "start_time": "2025-08-19T21:17:07.783341Z"
    }
   },
   "cell_type": "code",
   "source": [
    "from sklearn.model_selection import train_test_split\n",
    "\n",
    "X_lv = liver.drop('Liver_disease', axis =1).values\n",
    "y_lv = liver['Liver_disease'].values\n",
    "\n",
    "\n",
    "X_train, X_test, y_train, y_test = train_test_split(X_lv, y_lv, test_size = 0.3, random_state=1)"
   ],
   "id": "46c8b89f16434fdd",
   "outputs": [],
   "execution_count": 7
  },
  {
   "metadata": {
    "ExecuteTime": {
     "end_time": "2025-08-19T21:14:33.043883Z",
     "start_time": "2025-08-19T21:14:33.001690Z"
    }
   },
   "cell_type": "code",
   "source": [
    "#1. Import DecisionTreeClassifier from sklearn.tree and BaggingClassifier from sklearn.ensemble.\n",
    "from sklearn.tree import DecisionTreeClassifier\n",
    "from sklearn.ensemble import BaggingClassifier\n",
    "\n",
    "#2. Instantiate a DecisionTreeClassifier called dt.\n",
    "dt = DecisionTreeClassifier(random_state=1)\n",
    "\n",
    "#3. Instantiate a BaggingClassifier called bc consisting of 50 trees.\n",
    "bc = BaggingClassifier(estimator=dt, n_estimators=50, random_state=1)"
   ],
   "id": "6df5d7be67ab0884",
   "outputs": [],
   "execution_count": 4
  },
  {
   "metadata": {},
   "cell_type": "markdown",
   "source": [
    "Evaluating Bagging Performance\n",
    "----\n",
    "\n",
    "Train the Bagging classifier `bc` on `X_train` and `y_train`.\n",
    "Predict the labels of `X_test` and store them.\n",
    "Evaluate its performance by computing accuracy with `accuracy_score(y_test, y_pred)`.\n",
    "Print the resulting test accuracy.\n"
   ],
   "id": "794dc5f825527a81"
  },
  {
   "metadata": {
    "ExecuteTime": {
     "end_time": "2025-08-19T21:28:22.959501Z",
     "start_time": "2025-08-19T21:28:22.446840Z"
    }
   },
   "cell_type": "code",
   "source": [
    "#1. Fit bc to the training set.\n",
    "bc.fit(X_train, y_train)\n",
    "\n",
    "#2. Predict the test set labels and assign the result to y_pred.\n",
    "y_pred = bc.predict(X_test)\n",
    "\n",
    "#3. Determine bc's test set accuracy.\n",
    "from sklearn.metrics import accuracy_score\n",
    "accuracy = accuracy_score(y_test, y_pred)\n",
    "\n",
    "print('Test score accuracy: {:.2f}'.format(accuracy))"
   ],
   "id": "a01b6c0a545375ad",
   "outputs": [
    {
     "name": "stdout",
     "output_type": "stream",
     "text": [
      "Test score accuracy: 0.69\n"
     ]
    }
   ],
   "execution_count": 10
  },
  {
   "metadata": {},
   "cell_type": "markdown",
   "source": [
    "Preparing for Bagging Classifier Evaluation\n",
    "----\n",
    "Instantiate a bagging classifier with the parameter `oob_score=True`.\n",
    "Fit the model on the training data (`X_train`, `y_train`).\n",
    "After training, access the OOB accuracy using the `.oob_score_` attribute.\n",
    "This value will later be compared with the test set accuracy.\n"
   ],
   "id": "e7d4b02dbd7d5f1c"
  },
  {
   "metadata": {
    "ExecuteTime": {
     "end_time": "2025-08-19T21:53:26.271911Z",
     "start_time": "2025-08-19T21:53:26.259385Z"
    }
   },
   "cell_type": "code",
   "source": [
    "#1. Import BaggingClassifier from sklearn.ensemble.\n",
    "from sklearn.ensemble import BaggingClassifier\n",
    "\n",
    "#2. Instantiate a DecisionTreeClassifier with min_samples_leaf set to 8.\n",
    "dt1 = DecisionTreeClassifier(min_samples_leaf = 8, random_state = 1)\n",
    "\n",
    "#3. Instantiate a BaggingClassifier consisting of 50 trees and set oob_score to True.\n",
    "bc1 = BaggingClassifier(estimator = dt1, n_estimators = 50, oob_score = True, random_state=1)"
   ],
   "id": "aec27bbb5cf2f4ed",
   "outputs": [],
   "execution_count": 12
  },
  {
   "metadata": {},
   "cell_type": "markdown",
   "source": [
    "Task: Comparing OOB Score and Test Set Accuracy\n",
    "----\n",
    "Fit the bagging classifier `bc` on the training data (`X_train`, `y_train`).\n",
    "Predict labels for `X_test` and calculate test set accuracy using `accuracy_score()`.\n",
    "Access the OOB accuracy using the `.oob_score_` attribute of `bc`.\n",
    "Compare both values to evaluate model performance.\n"
   ],
   "id": "cc82119cae8d3848"
  },
  {
   "metadata": {
    "ExecuteTime": {
     "end_time": "2025-08-19T22:03:14.758614Z",
     "start_time": "2025-08-19T22:03:14.323156Z"
    }
   },
   "cell_type": "code",
   "source": [
    "#1. Fit bc to the training set and predict the test set labels and assign the results to y_pred.\n",
    "bc1.fit(X_train, y_train)\n",
    "y_pred1 = bc1.predict(X_test)\n",
    "\n",
    "#2. Evaluate the test set accuracy acc_test1 by calling accuracy_score.\n",
    "acc_test1 = accuracy_score(y_test, y_pred1)\n",
    "\n",
    "#3. Evaluate bc's OOB accuracy acc_oob by extracting the attribute oob_score_ from bc.\n",
    "acc_oob = bc1.oob_score_\n",
    "\n",
    "print('Test set accuracy: {:.3f}, OOB accuracy: {:.3f}'.format(acc_test1, acc_oob))"
   ],
   "id": "793612e1331f1e61",
   "outputs": [
    {
     "name": "stdout",
     "output_type": "stream",
     "text": [
      "Test set accuracy: 0.695, OOB accuracy: 0.677\n"
     ]
    }
   ],
   "execution_count": 15
  },
  {
   "metadata": {},
   "cell_type": "code",
   "outputs": [],
   "execution_count": null,
   "source": "",
   "id": "649e671b8d3fa843"
  }
 ],
 "metadata": {
  "kernelspec": {
   "display_name": "Python 3",
   "language": "python",
   "name": "python3"
  },
  "language_info": {
   "codemirror_mode": {
    "name": "ipython",
    "version": 2
   },
   "file_extension": ".py",
   "mimetype": "text/x-python",
   "name": "python",
   "nbconvert_exporter": "python",
   "pygments_lexer": "ipython2",
   "version": "2.7.6"
  }
 },
 "nbformat": 4,
 "nbformat_minor": 5
}
