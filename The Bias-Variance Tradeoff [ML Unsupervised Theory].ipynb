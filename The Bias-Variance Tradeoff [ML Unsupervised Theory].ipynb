{
 "cells": [
  {
   "metadata": {},
   "cell_type": "markdown",
   "source": [
    "The Bias-Variance Tradeoff\n",
    "----\n",
    "The bias-variance tradeoff is one of the fundamental concepts in supervised machine learning. In this chapter, you'll understand how to diagnose the problems of overfitting and underfitting. You'll also be introduced to the concept of ensembling where the predictions of several models are aggregated to produce predictions that are more robust."
   ],
   "id": "6d0c9e569c696e60"
  },
  {
   "cell_type": "code",
   "id": "initial_id",
   "metadata": {
    "collapsed": true,
    "ExecuteTime": {
     "end_time": "2025-08-14T22:02:13.636110Z",
     "start_time": "2025-08-14T22:02:13.618990Z"
    }
   },
   "source": [
    "import numpy as np\n",
    "import pandas as pd\n",
    "import matplotlib.pyplot as plt\n",
    "import warnings\n",
    "warnings.filterwarnings('ignore')\n",
    "from sklearn.model_selection import train_test_split\n",
    "from sklearn.tree import DecisionTreeRegressor\n",
    "from sklearn.metrics import mean_squared_error as MSE\n",
    "from sklearn.model_selection import cross_val_score\n",
    "from sklearn.linear_model import LogisticRegression\n",
    "from sklearn.neighbors import KNeighborsClassifier as KNN\n",
    "from sklearn.tree import DecisionTreeClassifier"
   ],
   "outputs": [],
   "execution_count": 44
  },
  {
   "metadata": {},
   "cell_type": "markdown",
   "source": [
    "Instantiating a Regression Tree Model\n",
    "----\n",
    "\n",
    "Create a regression tree model to predict the miles per gallon (mpg) of cars using all features in the dataset. Use the provided feature matrix X and target array y. Instantiate the model from the DecisionTreeRegressor class, which has already been imported, so it can be trained and later evaluated for bias and variance behavior."
   ],
   "id": "a1f434cfb5a27533"
  },
  {
   "metadata": {
    "ExecuteTime": {
     "end_time": "2025-08-14T21:40:48.927571Z",
     "start_time": "2025-08-14T21:40:48.893064Z"
    }
   },
   "cell_type": "code",
   "source": [
    "mpg_df = pd.read_csv(r\"C:\\Users\\Emigb\\Documents\\Data Science\\datasets\\auto.csv\")\n",
    "mpg_df.head()"
   ],
   "id": "a60233ed04352afe",
   "outputs": [
    {
     "data": {
      "text/plain": [
       "    mpg  displ   hp  weight  accel  origin  size\n",
       "0  18.0  250.0   88    3139   14.5      US  15.0\n",
       "1   9.0  304.0  193    4732   18.5      US  20.0\n",
       "2  36.1   91.0   60    1800   16.4    Asia  10.0\n",
       "3  18.5  250.0   98    3525   19.0      US  15.0\n",
       "4  34.3   97.0   78    2188   15.8  Europe  10.0"
      ],
      "text/html": [
       "<div>\n",
       "<style scoped>\n",
       "    .dataframe tbody tr th:only-of-type {\n",
       "        vertical-align: middle;\n",
       "    }\n",
       "\n",
       "    .dataframe tbody tr th {\n",
       "        vertical-align: top;\n",
       "    }\n",
       "\n",
       "    .dataframe thead th {\n",
       "        text-align: right;\n",
       "    }\n",
       "</style>\n",
       "<table border=\"1\" class=\"dataframe\">\n",
       "  <thead>\n",
       "    <tr style=\"text-align: right;\">\n",
       "      <th></th>\n",
       "      <th>mpg</th>\n",
       "      <th>displ</th>\n",
       "      <th>hp</th>\n",
       "      <th>weight</th>\n",
       "      <th>accel</th>\n",
       "      <th>origin</th>\n",
       "      <th>size</th>\n",
       "    </tr>\n",
       "  </thead>\n",
       "  <tbody>\n",
       "    <tr>\n",
       "      <th>0</th>\n",
       "      <td>18.0</td>\n",
       "      <td>250.0</td>\n",
       "      <td>88</td>\n",
       "      <td>3139</td>\n",
       "      <td>14.5</td>\n",
       "      <td>US</td>\n",
       "      <td>15.0</td>\n",
       "    </tr>\n",
       "    <tr>\n",
       "      <th>1</th>\n",
       "      <td>9.0</td>\n",
       "      <td>304.0</td>\n",
       "      <td>193</td>\n",
       "      <td>4732</td>\n",
       "      <td>18.5</td>\n",
       "      <td>US</td>\n",
       "      <td>20.0</td>\n",
       "    </tr>\n",
       "    <tr>\n",
       "      <th>2</th>\n",
       "      <td>36.1</td>\n",
       "      <td>91.0</td>\n",
       "      <td>60</td>\n",
       "      <td>1800</td>\n",
       "      <td>16.4</td>\n",
       "      <td>Asia</td>\n",
       "      <td>10.0</td>\n",
       "    </tr>\n",
       "    <tr>\n",
       "      <th>3</th>\n",
       "      <td>18.5</td>\n",
       "      <td>250.0</td>\n",
       "      <td>98</td>\n",
       "      <td>3525</td>\n",
       "      <td>19.0</td>\n",
       "      <td>US</td>\n",
       "      <td>15.0</td>\n",
       "    </tr>\n",
       "    <tr>\n",
       "      <th>4</th>\n",
       "      <td>34.3</td>\n",
       "      <td>97.0</td>\n",
       "      <td>78</td>\n",
       "      <td>2188</td>\n",
       "      <td>15.8</td>\n",
       "      <td>Europe</td>\n",
       "      <td>10.0</td>\n",
       "    </tr>\n",
       "  </tbody>\n",
       "</table>\n",
       "</div>"
      ]
     },
     "execution_count": 26,
     "metadata": {},
     "output_type": "execute_result"
    }
   ],
   "execution_count": 26
  },
  {
   "metadata": {
    "ExecuteTime": {
     "end_time": "2025-08-14T21:40:48.977547Z",
     "start_time": "2025-08-14T21:40:48.942062Z"
    }
   },
   "cell_type": "code",
   "source": [
    "mpg_dum = pd.get_dummies(mpg_df, drop_first=True).astype(float)\n",
    "mpg_dum.head()"
   ],
   "id": "54a7c9182ad90e92",
   "outputs": [
    {
     "data": {
      "text/plain": [
       "    mpg  displ     hp  weight  accel  size  origin_Europe  origin_US\n",
       "0  18.0  250.0   88.0  3139.0   14.5  15.0            0.0        1.0\n",
       "1   9.0  304.0  193.0  4732.0   18.5  20.0            0.0        1.0\n",
       "2  36.1   91.0   60.0  1800.0   16.4  10.0            0.0        0.0\n",
       "3  18.5  250.0   98.0  3525.0   19.0  15.0            0.0        1.0\n",
       "4  34.3   97.0   78.0  2188.0   15.8  10.0            1.0        0.0"
      ],
      "text/html": [
       "<div>\n",
       "<style scoped>\n",
       "    .dataframe tbody tr th:only-of-type {\n",
       "        vertical-align: middle;\n",
       "    }\n",
       "\n",
       "    .dataframe tbody tr th {\n",
       "        vertical-align: top;\n",
       "    }\n",
       "\n",
       "    .dataframe thead th {\n",
       "        text-align: right;\n",
       "    }\n",
       "</style>\n",
       "<table border=\"1\" class=\"dataframe\">\n",
       "  <thead>\n",
       "    <tr style=\"text-align: right;\">\n",
       "      <th></th>\n",
       "      <th>mpg</th>\n",
       "      <th>displ</th>\n",
       "      <th>hp</th>\n",
       "      <th>weight</th>\n",
       "      <th>accel</th>\n",
       "      <th>size</th>\n",
       "      <th>origin_Europe</th>\n",
       "      <th>origin_US</th>\n",
       "    </tr>\n",
       "  </thead>\n",
       "  <tbody>\n",
       "    <tr>\n",
       "      <th>0</th>\n",
       "      <td>18.0</td>\n",
       "      <td>250.0</td>\n",
       "      <td>88.0</td>\n",
       "      <td>3139.0</td>\n",
       "      <td>14.5</td>\n",
       "      <td>15.0</td>\n",
       "      <td>0.0</td>\n",
       "      <td>1.0</td>\n",
       "    </tr>\n",
       "    <tr>\n",
       "      <th>1</th>\n",
       "      <td>9.0</td>\n",
       "      <td>304.0</td>\n",
       "      <td>193.0</td>\n",
       "      <td>4732.0</td>\n",
       "      <td>18.5</td>\n",
       "      <td>20.0</td>\n",
       "      <td>0.0</td>\n",
       "      <td>1.0</td>\n",
       "    </tr>\n",
       "    <tr>\n",
       "      <th>2</th>\n",
       "      <td>36.1</td>\n",
       "      <td>91.0</td>\n",
       "      <td>60.0</td>\n",
       "      <td>1800.0</td>\n",
       "      <td>16.4</td>\n",
       "      <td>10.0</td>\n",
       "      <td>0.0</td>\n",
       "      <td>0.0</td>\n",
       "    </tr>\n",
       "    <tr>\n",
       "      <th>3</th>\n",
       "      <td>18.5</td>\n",
       "      <td>250.0</td>\n",
       "      <td>98.0</td>\n",
       "      <td>3525.0</td>\n",
       "      <td>19.0</td>\n",
       "      <td>15.0</td>\n",
       "      <td>0.0</td>\n",
       "      <td>1.0</td>\n",
       "    </tr>\n",
       "    <tr>\n",
       "      <th>4</th>\n",
       "      <td>34.3</td>\n",
       "      <td>97.0</td>\n",
       "      <td>78.0</td>\n",
       "      <td>2188.0</td>\n",
       "      <td>15.8</td>\n",
       "      <td>10.0</td>\n",
       "      <td>1.0</td>\n",
       "      <td>0.0</td>\n",
       "    </tr>\n",
       "  </tbody>\n",
       "</table>\n",
       "</div>"
      ]
     },
     "execution_count": 27,
     "metadata": {},
     "output_type": "execute_result"
    }
   ],
   "execution_count": 27
  },
  {
   "metadata": {
    "ExecuteTime": {
     "end_time": "2025-08-14T21:40:49.102069Z",
     "start_time": "2025-08-14T21:40:49.083497Z"
    }
   },
   "cell_type": "code",
   "source": [
    "X = mpg_dum.drop('mpg', axis=1).values\n",
    "y = mpg_dum['mpg'].values\n",
    "\n",
    "print(X.shape)\n",
    "print(y.shape)"
   ],
   "id": "72bb81ab7fdb14a",
   "outputs": [
    {
     "name": "stdout",
     "output_type": "stream",
     "text": [
      "(392, 7)\n",
      "(392,)\n"
     ]
    }
   ],
   "execution_count": 28
  },
  {
   "metadata": {
    "ExecuteTime": {
     "end_time": "2025-08-14T21:40:49.172556Z",
     "start_time": "2025-08-14T21:40:49.162619Z"
    }
   },
   "cell_type": "code",
   "source": [
    "#2. Split the data into 70% train and 30% test.\n",
    "X_train, X_test, y_train, y_test = train_test_split(X,y, test_size = 0.3, random_state=21)"
   ],
   "id": "1b20a79767c79a37",
   "outputs": [],
   "execution_count": 29
  },
  {
   "metadata": {
    "ExecuteTime": {
     "end_time": "2025-08-14T21:40:49.238127Z",
     "start_time": "2025-08-14T21:40:49.230140Z"
    }
   },
   "cell_type": "code",
   "source": [
    "#3. Instantiate a DecisionTreeRegressor with max depth 4 and min_samples_leaf set to 0.26.\n",
    "dt = DecisionTreeRegressor(max_depth = 4, min_samples_leaf = 0.26, random_state = 42)"
   ],
   "id": "facb46eee0de3b11",
   "outputs": [],
   "execution_count": 30
  },
  {
   "metadata": {},
   "cell_type": "markdown",
   "source": [
    "Evaluating Regression Tree with 10-Fold Cross-Validation RMSE\n",
    "---\n",
    "\n",
    "Use 10-fold cross-validation to assess the performance of the regression tree dt on the training data (`X_train`, `y_train`). Apply cross_val_score with the scoring parameter set to negative mean squared error. Multiply the results by -1 to obtain positive MSE values, then calculate their average. Take the square root of this average to get the cross-validated RMSE, which measures the model’s prediction error across multiple folds."
   ],
   "id": "a58ca73c8c407aa2"
  },
  {
   "metadata": {
    "ExecuteTime": {
     "end_time": "2025-08-14T21:43:54.772998Z",
     "start_time": "2025-08-14T21:43:54.740216Z"
    }
   },
   "cell_type": "code",
   "source": [
    "#1. Compute dt's 10-fold cross-validated MSE by setting the scoring argument to 'neg_mean_squared_error'.\n",
    "MSE_cv = - cross_val_score(dt, X_train, y_train, cv=10, scoring = 'neg_mean_squared_error', n_jobs = -1)\n",
    "\n",
    "#2. Compute RMSE from the obtained MSE scores.\n",
    "RMSE_cv = MSE_cv ** (1/2)\n",
    "\n",
    "print('CV RMSE:', np.round(RMSE_cv, 2))"
   ],
   "id": "a27ebd4c4f11ef47",
   "outputs": [
    {
     "name": "stdout",
     "output_type": "stream",
     "text": [
      "CV RMSE: [4.   4.25 4.05 4.14 4.72 5.15 4.62 4.81 4.32 5.47]\n"
     ]
    }
   ],
   "execution_count": 37
  },
  {
   "metadata": {},
   "cell_type": "markdown",
   "source": [
    "Calculating Training Set RMSE for the Regression Tree\n",
    "----\n",
    "\n",
    "Evaluate the performance of the regression tree `dt` on the training set (`X_train`, `y_train`). Use the model to make predictions on `X_train`, then compute the Mean Squared Error (MSE) between the predictions and the actual values with `mean_squared_error`. Take the square root of the MSE to obtain the RMSE, which represents the average prediction error of the model on the training data."
   ],
   "id": "7323087e19d5fb95"
  },
  {
   "metadata": {
    "ExecuteTime": {
     "end_time": "2025-08-14T21:50:46.400747Z",
     "start_time": "2025-08-14T21:50:46.393749Z"
    }
   },
   "cell_type": "code",
   "source": [
    "#2. Fit dt to the training set.\n",
    "dt.fit(X_train, y_train)\n",
    "\n",
    "#3. Predict dt's training set labels and assign the result to y_pred_train.\n",
    "y_pred_train = dt.predict(X_test)\n",
    "\n",
    "#4. Evaluate dt's training set RMSE and assign it to RMSE_train.\n",
    "RMSE_train = MSE(y_test, y_pred_train) ** 0.5\n",
    "\n",
    "print('RMSE_train: {:.2f}'.format(RMSE_train))"
   ],
   "id": "5d55aa0194168aca",
   "outputs": [
    {
     "name": "stdout",
     "output_type": "stream",
     "text": [
      "RMSE_train: 4.39\n"
     ]
    }
   ],
   "execution_count": 40
  },
  {
   "metadata": {},
   "cell_type": "markdown",
   "source": [
    "Instantiating Classifiers for Liver Disease Prediction\n",
    "----\n",
    "\n",
    "Create three classification models to predict liver disease using all dataset features. Instantiate:\n",
    "\n",
    "1. A `LogisticRegression` model\n",
    "2. A `DecisionTreeClassifier` model\n",
    "3. A `KNeighborsClassifier` model (imported as KNN)\n",
    "\n",
    "These models will later be used individually and as part of an ensemble for performance comparison."
   ],
   "id": "2017fab5722626fb"
  },
  {
   "metadata": {
    "ExecuteTime": {
     "end_time": "2025-08-14T22:05:48.336630Z",
     "start_time": "2025-08-14T22:05:48.319285Z"
    }
   },
   "cell_type": "code",
   "source": [
    "#1. Instantiate a Logistic Regression classifier and assign it to lr.\n",
    "lr = LogisticRegression(random_state = 21)\n",
    "\n",
    "#2. Instantiate a KNN classifier that considers 27 nearest neighbors and assign it to knn.\n",
    "knn = KNN(n_neighbors = 27)\n",
    "\n",
    "#3. Instantiate a Decision Tree Classifier with the parameter min_samples_leaf set to 0.13 and assign it to dt.\n",
    "dt1 = DecisionTreeClassifier(min_samples_leaf = 0.13, random_state = 21)\n",
    "\n",
    "# Define the list classifiers\n",
    "classifiers = [('Logistic Regression', lr), ('K Nearest Neighbors', knn), ('Classification Tree', dt1)]"
   ],
   "id": "981a0cc3ad144616",
   "outputs": [],
   "execution_count": 46
  },
  {
   "metadata": {
    "ExecuteTime": {
     "end_time": "2025-08-14T22:00:18.024575Z",
     "start_time": "2025-08-14T22:00:18.019371Z"
    }
   },
   "cell_type": "code",
   "source": "",
   "id": "4889e022bb9c3d41",
   "outputs": [],
   "execution_count": null
  },
  {
   "metadata": {},
   "cell_type": "code",
   "outputs": [],
   "execution_count": null,
   "source": "",
   "id": "c18a8eb93fb6e7cc"
  }
 ],
 "metadata": {
  "kernelspec": {
   "display_name": "Python 3",
   "language": "python",
   "name": "python3"
  },
  "language_info": {
   "codemirror_mode": {
    "name": "ipython",
    "version": 2
   },
   "file_extension": ".py",
   "mimetype": "text/x-python",
   "name": "python",
   "nbconvert_exporter": "python",
   "pygments_lexer": "ipython2",
   "version": "2.7.6"
  }
 },
 "nbformat": 4,
 "nbformat_minor": 5
}
