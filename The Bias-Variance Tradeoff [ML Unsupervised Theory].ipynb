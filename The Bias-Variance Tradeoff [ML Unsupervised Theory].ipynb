{
 "cells": [
  {
   "metadata": {},
   "cell_type": "markdown",
   "source": [
    "The Bias-Variance Tradeoff\n",
    "----\n",
    "The bias-variance tradeoff is one of the fundamental concepts in supervised machine learning. In this chapter, you'll understand how to diagnose the problems of overfitting and underfitting. You'll also be introduced to the concept of ensembling where the predictions of several models are aggregated to produce predictions that are more robust."
   ],
   "id": "6d0c9e569c696e60"
  },
  {
   "cell_type": "code",
   "id": "initial_id",
   "metadata": {
    "collapsed": true,
    "ExecuteTime": {
     "end_time": "2025-08-14T22:14:13.329848Z",
     "start_time": "2025-08-14T22:14:13.318773Z"
    }
   },
   "source": [
    "import numpy as np\n",
    "import pandas as pd\n",
    "import matplotlib.pyplot as plt\n",
    "import warnings\n",
    "warnings.filterwarnings('ignore')\n",
    "from sklearn.model_selection import train_test_split\n",
    "from sklearn.tree import DecisionTreeRegressor\n",
    "from sklearn.metrics import mean_squared_error as MSE\n",
    "from sklearn.model_selection import cross_val_score\n",
    "from sklearn.linear_model import LogisticRegression\n",
    "from sklearn.neighbors import KNeighborsClassifier as KNN\n",
    "from sklearn.tree import DecisionTreeClassifier\n",
    "from sklearn.metrics import accuracy_score"
   ],
   "outputs": [],
   "execution_count": 49
  },
  {
   "metadata": {},
   "cell_type": "markdown",
   "source": [
    "Instantiating a Regression Tree Model\n",
    "----\n",
    "\n",
    "Create a regression tree model to predict the miles per gallon (mpg) of cars using all features in the dataset. Use the provided feature matrix X and target array y. Instantiate the model from the DecisionTreeRegressor class, which has already been imported, so it can be trained and later evaluated for bias and variance behavior."
   ],
   "id": "a1f434cfb5a27533"
  },
  {
   "metadata": {
    "ExecuteTime": {
     "end_time": "2025-08-14T21:40:48.927571Z",
     "start_time": "2025-08-14T21:40:48.893064Z"
    }
   },
   "cell_type": "code",
   "source": [
    "mpg_df = pd.read_csv(r\"C:\\Users\\Emigb\\Documents\\Data Science\\datasets\\auto.csv\")\n",
    "mpg_df.head()"
   ],
   "id": "a60233ed04352afe",
   "outputs": [
    {
     "data": {
      "text/plain": [
       "    mpg  displ   hp  weight  accel  origin  size\n",
       "0  18.0  250.0   88    3139   14.5      US  15.0\n",
       "1   9.0  304.0  193    4732   18.5      US  20.0\n",
       "2  36.1   91.0   60    1800   16.4    Asia  10.0\n",
       "3  18.5  250.0   98    3525   19.0      US  15.0\n",
       "4  34.3   97.0   78    2188   15.8  Europe  10.0"
      ],
      "text/html": [
       "<div>\n",
       "<style scoped>\n",
       "    .dataframe tbody tr th:only-of-type {\n",
       "        vertical-align: middle;\n",
       "    }\n",
       "\n",
       "    .dataframe tbody tr th {\n",
       "        vertical-align: top;\n",
       "    }\n",
       "\n",
       "    .dataframe thead th {\n",
       "        text-align: right;\n",
       "    }\n",
       "</style>\n",
       "<table border=\"1\" class=\"dataframe\">\n",
       "  <thead>\n",
       "    <tr style=\"text-align: right;\">\n",
       "      <th></th>\n",
       "      <th>mpg</th>\n",
       "      <th>displ</th>\n",
       "      <th>hp</th>\n",
       "      <th>weight</th>\n",
       "      <th>accel</th>\n",
       "      <th>origin</th>\n",
       "      <th>size</th>\n",
       "    </tr>\n",
       "  </thead>\n",
       "  <tbody>\n",
       "    <tr>\n",
       "      <th>0</th>\n",
       "      <td>18.0</td>\n",
       "      <td>250.0</td>\n",
       "      <td>88</td>\n",
       "      <td>3139</td>\n",
       "      <td>14.5</td>\n",
       "      <td>US</td>\n",
       "      <td>15.0</td>\n",
       "    </tr>\n",
       "    <tr>\n",
       "      <th>1</th>\n",
       "      <td>9.0</td>\n",
       "      <td>304.0</td>\n",
       "      <td>193</td>\n",
       "      <td>4732</td>\n",
       "      <td>18.5</td>\n",
       "      <td>US</td>\n",
       "      <td>20.0</td>\n",
       "    </tr>\n",
       "    <tr>\n",
       "      <th>2</th>\n",
       "      <td>36.1</td>\n",
       "      <td>91.0</td>\n",
       "      <td>60</td>\n",
       "      <td>1800</td>\n",
       "      <td>16.4</td>\n",
       "      <td>Asia</td>\n",
       "      <td>10.0</td>\n",
       "    </tr>\n",
       "    <tr>\n",
       "      <th>3</th>\n",
       "      <td>18.5</td>\n",
       "      <td>250.0</td>\n",
       "      <td>98</td>\n",
       "      <td>3525</td>\n",
       "      <td>19.0</td>\n",
       "      <td>US</td>\n",
       "      <td>15.0</td>\n",
       "    </tr>\n",
       "    <tr>\n",
       "      <th>4</th>\n",
       "      <td>34.3</td>\n",
       "      <td>97.0</td>\n",
       "      <td>78</td>\n",
       "      <td>2188</td>\n",
       "      <td>15.8</td>\n",
       "      <td>Europe</td>\n",
       "      <td>10.0</td>\n",
       "    </tr>\n",
       "  </tbody>\n",
       "</table>\n",
       "</div>"
      ]
     },
     "execution_count": 26,
     "metadata": {},
     "output_type": "execute_result"
    }
   ],
   "execution_count": 26
  },
  {
   "metadata": {
    "ExecuteTime": {
     "end_time": "2025-08-14T21:40:48.977547Z",
     "start_time": "2025-08-14T21:40:48.942062Z"
    }
   },
   "cell_type": "code",
   "source": [
    "mpg_dum = pd.get_dummies(mpg_df, drop_first=True).astype(float)\n",
    "mpg_dum.head()"
   ],
   "id": "54a7c9182ad90e92",
   "outputs": [
    {
     "data": {
      "text/plain": [
       "    mpg  displ     hp  weight  accel  size  origin_Europe  origin_US\n",
       "0  18.0  250.0   88.0  3139.0   14.5  15.0            0.0        1.0\n",
       "1   9.0  304.0  193.0  4732.0   18.5  20.0            0.0        1.0\n",
       "2  36.1   91.0   60.0  1800.0   16.4  10.0            0.0        0.0\n",
       "3  18.5  250.0   98.0  3525.0   19.0  15.0            0.0        1.0\n",
       "4  34.3   97.0   78.0  2188.0   15.8  10.0            1.0        0.0"
      ],
      "text/html": [
       "<div>\n",
       "<style scoped>\n",
       "    .dataframe tbody tr th:only-of-type {\n",
       "        vertical-align: middle;\n",
       "    }\n",
       "\n",
       "    .dataframe tbody tr th {\n",
       "        vertical-align: top;\n",
       "    }\n",
       "\n",
       "    .dataframe thead th {\n",
       "        text-align: right;\n",
       "    }\n",
       "</style>\n",
       "<table border=\"1\" class=\"dataframe\">\n",
       "  <thead>\n",
       "    <tr style=\"text-align: right;\">\n",
       "      <th></th>\n",
       "      <th>mpg</th>\n",
       "      <th>displ</th>\n",
       "      <th>hp</th>\n",
       "      <th>weight</th>\n",
       "      <th>accel</th>\n",
       "      <th>size</th>\n",
       "      <th>origin_Europe</th>\n",
       "      <th>origin_US</th>\n",
       "    </tr>\n",
       "  </thead>\n",
       "  <tbody>\n",
       "    <tr>\n",
       "      <th>0</th>\n",
       "      <td>18.0</td>\n",
       "      <td>250.0</td>\n",
       "      <td>88.0</td>\n",
       "      <td>3139.0</td>\n",
       "      <td>14.5</td>\n",
       "      <td>15.0</td>\n",
       "      <td>0.0</td>\n",
       "      <td>1.0</td>\n",
       "    </tr>\n",
       "    <tr>\n",
       "      <th>1</th>\n",
       "      <td>9.0</td>\n",
       "      <td>304.0</td>\n",
       "      <td>193.0</td>\n",
       "      <td>4732.0</td>\n",
       "      <td>18.5</td>\n",
       "      <td>20.0</td>\n",
       "      <td>0.0</td>\n",
       "      <td>1.0</td>\n",
       "    </tr>\n",
       "    <tr>\n",
       "      <th>2</th>\n",
       "      <td>36.1</td>\n",
       "      <td>91.0</td>\n",
       "      <td>60.0</td>\n",
       "      <td>1800.0</td>\n",
       "      <td>16.4</td>\n",
       "      <td>10.0</td>\n",
       "      <td>0.0</td>\n",
       "      <td>0.0</td>\n",
       "    </tr>\n",
       "    <tr>\n",
       "      <th>3</th>\n",
       "      <td>18.5</td>\n",
       "      <td>250.0</td>\n",
       "      <td>98.0</td>\n",
       "      <td>3525.0</td>\n",
       "      <td>19.0</td>\n",
       "      <td>15.0</td>\n",
       "      <td>0.0</td>\n",
       "      <td>1.0</td>\n",
       "    </tr>\n",
       "    <tr>\n",
       "      <th>4</th>\n",
       "      <td>34.3</td>\n",
       "      <td>97.0</td>\n",
       "      <td>78.0</td>\n",
       "      <td>2188.0</td>\n",
       "      <td>15.8</td>\n",
       "      <td>10.0</td>\n",
       "      <td>1.0</td>\n",
       "      <td>0.0</td>\n",
       "    </tr>\n",
       "  </tbody>\n",
       "</table>\n",
       "</div>"
      ]
     },
     "execution_count": 27,
     "metadata": {},
     "output_type": "execute_result"
    }
   ],
   "execution_count": 27
  },
  {
   "metadata": {
    "ExecuteTime": {
     "end_time": "2025-08-14T21:40:49.102069Z",
     "start_time": "2025-08-14T21:40:49.083497Z"
    }
   },
   "cell_type": "code",
   "source": [
    "X = mpg_dum.drop('mpg', axis=1).values\n",
    "y = mpg_dum['mpg'].values\n",
    "\n",
    "print(X.shape)\n",
    "print(y.shape)"
   ],
   "id": "72bb81ab7fdb14a",
   "outputs": [
    {
     "name": "stdout",
     "output_type": "stream",
     "text": [
      "(392, 7)\n",
      "(392,)\n"
     ]
    }
   ],
   "execution_count": 28
  },
  {
   "metadata": {
    "ExecuteTime": {
     "end_time": "2025-08-14T21:40:49.172556Z",
     "start_time": "2025-08-14T21:40:49.162619Z"
    }
   },
   "cell_type": "code",
   "source": [
    "#2. Split the data into 70% train and 30% test.\n",
    "X_train, X_test, y_train, y_test = train_test_split(X,y, test_size = 0.3, random_state=21)"
   ],
   "id": "1b20a79767c79a37",
   "outputs": [],
   "execution_count": 29
  },
  {
   "metadata": {
    "ExecuteTime": {
     "end_time": "2025-08-14T21:40:49.238127Z",
     "start_time": "2025-08-14T21:40:49.230140Z"
    }
   },
   "cell_type": "code",
   "source": [
    "#3. Instantiate a DecisionTreeRegressor with max depth 4 and min_samples_leaf set to 0.26.\n",
    "dt = DecisionTreeRegressor(max_depth = 4, min_samples_leaf = 0.26, random_state = 42)"
   ],
   "id": "facb46eee0de3b11",
   "outputs": [],
   "execution_count": 30
  },
  {
   "metadata": {},
   "cell_type": "markdown",
   "source": [
    "Evaluating Regression Tree with 10-Fold Cross-Validation RMSE\n",
    "---\n",
    "\n",
    "Use 10-fold cross-validation to assess the performance of the regression tree dt on the training data (`X_train`, `y_train`). Apply cross_val_score with the scoring parameter set to negative mean squared error. Multiply the results by -1 to obtain positive MSE values, then calculate their average. Take the square root of this average to get the cross-validated RMSE, which measures the model’s prediction error across multiple folds."
   ],
   "id": "a58ca73c8c407aa2"
  },
  {
   "metadata": {
    "ExecuteTime": {
     "end_time": "2025-08-14T21:43:54.772998Z",
     "start_time": "2025-08-14T21:43:54.740216Z"
    }
   },
   "cell_type": "code",
   "source": [
    "#1. Compute dt's 10-fold cross-validated MSE by setting the scoring argument to 'neg_mean_squared_error'.\n",
    "MSE_cv = - cross_val_score(dt, X_train, y_train, cv=10, scoring = 'neg_mean_squared_error', n_jobs = -1)\n",
    "\n",
    "#2. Compute RMSE from the obtained MSE scores.\n",
    "RMSE_cv = MSE_cv ** (1/2)\n",
    "\n",
    "print('CV RMSE:', np.round(RMSE_cv, 2))"
   ],
   "id": "a27ebd4c4f11ef47",
   "outputs": [
    {
     "name": "stdout",
     "output_type": "stream",
     "text": [
      "CV RMSE: [4.   4.25 4.05 4.14 4.72 5.15 4.62 4.81 4.32 5.47]\n"
     ]
    }
   ],
   "execution_count": 37
  },
  {
   "metadata": {},
   "cell_type": "markdown",
   "source": [
    "Calculating Training Set RMSE for the Regression Tree\n",
    "----\n",
    "\n",
    "Evaluate the performance of the regression tree `dt` on the training set (`X_train`, `y_train`). Use the model to make predictions on `X_train`, then compute the Mean Squared Error (MSE) between the predictions and the actual values with `mean_squared_error`. Take the square root of the MSE to obtain the RMSE, which represents the average prediction error of the model on the training data."
   ],
   "id": "7323087e19d5fb95"
  },
  {
   "metadata": {
    "ExecuteTime": {
     "end_time": "2025-08-14T21:50:46.400747Z",
     "start_time": "2025-08-14T21:50:46.393749Z"
    }
   },
   "cell_type": "code",
   "source": [
    "#2. Fit dt to the training set.\n",
    "dt.fit(X_train, y_train)\n",
    "\n",
    "#3. Predict dt's training set labels and assign the result to y_pred_train.\n",
    "y_pred_train = dt.predict(X_test)\n",
    "\n",
    "#4. Evaluate dt's training set RMSE and assign it to RMSE_train.\n",
    "RMSE_train = MSE(y_test, y_pred_train) ** 0.5\n",
    "\n",
    "print('RMSE_train: {:.2f}'.format(RMSE_train))"
   ],
   "id": "5d55aa0194168aca",
   "outputs": [
    {
     "name": "stdout",
     "output_type": "stream",
     "text": [
      "RMSE_train: 4.39\n"
     ]
    }
   ],
   "execution_count": 40
  },
  {
   "metadata": {},
   "cell_type": "markdown",
   "source": [
    "Instantiating Classifiers for Liver Disease Prediction\n",
    "----\n",
    "\n",
    "Create three classification models to predict liver disease using all dataset features. Instantiate:\n",
    "\n",
    "1. A `LogisticRegression` model\n",
    "2. A `DecisionTreeClassifier` model\n",
    "3. A `KNeighborsClassifier` model (imported as KNN)\n",
    "\n",
    "These models will later be used individually and as part of an ensemble for performance comparison."
   ],
   "id": "2017fab5722626fb"
  },
  {
   "metadata": {
    "ExecuteTime": {
     "end_time": "2025-08-14T22:18:48.543210Z",
     "start_time": "2025-08-14T22:18:48.452028Z"
    }
   },
   "cell_type": "code",
   "source": [
    "liver = pd.read_csv(r\"C:\\Users\\Emigb\\Documents\\Data Science\\datasets\\Indian liver\\indian_liver_patient_preprocessed.csv\")\n",
    "liver.head()"
   ],
   "id": "cfbdff183f51ea6d",
   "outputs": [
    {
     "data": {
      "text/plain": [
       "   Unnamed: 0   Age_std  Total_Bilirubin_std  Direct_Bilirubin_std  \\\n",
       "0           0  1.247403            -0.420320             -0.495414   \n",
       "1           1  1.062306             1.218936              1.423518   \n",
       "2           2  1.062306             0.640375              0.926017   \n",
       "3           3  0.815511            -0.372106             -0.388807   \n",
       "4           4  1.679294             0.093956              0.179766   \n",
       "\n",
       "   Alkaline_Phosphotase_std  Alamine_Aminotransferase_std  \\\n",
       "0                 -0.428870                     -0.355832   \n",
       "1                  1.675083                     -0.093573   \n",
       "2                  0.816243                     -0.115428   \n",
       "3                 -0.449416                     -0.366760   \n",
       "4                 -0.395996                     -0.295731   \n",
       "\n",
       "   Aspartate_Aminotransferase_std  Total_Protiens_std  Albumin_std  \\\n",
       "0                       -0.319111            0.293722     0.203446   \n",
       "1                       -0.035962            0.939655     0.077462   \n",
       "2                       -0.146459            0.478274     0.203446   \n",
       "3                       -0.312205            0.293722     0.329431   \n",
       "4                       -0.177537            0.755102    -0.930414   \n",
       "\n",
       "   Albumin_and_Globulin_Ratio_std  Is_male_std  Liver_disease  \n",
       "0                       -0.147390            0              1  \n",
       "1                       -0.648461            1              1  \n",
       "2                       -0.178707            1              1  \n",
       "3                        0.165780            1              1  \n",
       "4                       -1.713237            1              1  "
      ],
      "text/html": [
       "<div>\n",
       "<style scoped>\n",
       "    .dataframe tbody tr th:only-of-type {\n",
       "        vertical-align: middle;\n",
       "    }\n",
       "\n",
       "    .dataframe tbody tr th {\n",
       "        vertical-align: top;\n",
       "    }\n",
       "\n",
       "    .dataframe thead th {\n",
       "        text-align: right;\n",
       "    }\n",
       "</style>\n",
       "<table border=\"1\" class=\"dataframe\">\n",
       "  <thead>\n",
       "    <tr style=\"text-align: right;\">\n",
       "      <th></th>\n",
       "      <th>Unnamed: 0</th>\n",
       "      <th>Age_std</th>\n",
       "      <th>Total_Bilirubin_std</th>\n",
       "      <th>Direct_Bilirubin_std</th>\n",
       "      <th>Alkaline_Phosphotase_std</th>\n",
       "      <th>Alamine_Aminotransferase_std</th>\n",
       "      <th>Aspartate_Aminotransferase_std</th>\n",
       "      <th>Total_Protiens_std</th>\n",
       "      <th>Albumin_std</th>\n",
       "      <th>Albumin_and_Globulin_Ratio_std</th>\n",
       "      <th>Is_male_std</th>\n",
       "      <th>Liver_disease</th>\n",
       "    </tr>\n",
       "  </thead>\n",
       "  <tbody>\n",
       "    <tr>\n",
       "      <th>0</th>\n",
       "      <td>0</td>\n",
       "      <td>1.247403</td>\n",
       "      <td>-0.420320</td>\n",
       "      <td>-0.495414</td>\n",
       "      <td>-0.428870</td>\n",
       "      <td>-0.355832</td>\n",
       "      <td>-0.319111</td>\n",
       "      <td>0.293722</td>\n",
       "      <td>0.203446</td>\n",
       "      <td>-0.147390</td>\n",
       "      <td>0</td>\n",
       "      <td>1</td>\n",
       "    </tr>\n",
       "    <tr>\n",
       "      <th>1</th>\n",
       "      <td>1</td>\n",
       "      <td>1.062306</td>\n",
       "      <td>1.218936</td>\n",
       "      <td>1.423518</td>\n",
       "      <td>1.675083</td>\n",
       "      <td>-0.093573</td>\n",
       "      <td>-0.035962</td>\n",
       "      <td>0.939655</td>\n",
       "      <td>0.077462</td>\n",
       "      <td>-0.648461</td>\n",
       "      <td>1</td>\n",
       "      <td>1</td>\n",
       "    </tr>\n",
       "    <tr>\n",
       "      <th>2</th>\n",
       "      <td>2</td>\n",
       "      <td>1.062306</td>\n",
       "      <td>0.640375</td>\n",
       "      <td>0.926017</td>\n",
       "      <td>0.816243</td>\n",
       "      <td>-0.115428</td>\n",
       "      <td>-0.146459</td>\n",
       "      <td>0.478274</td>\n",
       "      <td>0.203446</td>\n",
       "      <td>-0.178707</td>\n",
       "      <td>1</td>\n",
       "      <td>1</td>\n",
       "    </tr>\n",
       "    <tr>\n",
       "      <th>3</th>\n",
       "      <td>3</td>\n",
       "      <td>0.815511</td>\n",
       "      <td>-0.372106</td>\n",
       "      <td>-0.388807</td>\n",
       "      <td>-0.449416</td>\n",
       "      <td>-0.366760</td>\n",
       "      <td>-0.312205</td>\n",
       "      <td>0.293722</td>\n",
       "      <td>0.329431</td>\n",
       "      <td>0.165780</td>\n",
       "      <td>1</td>\n",
       "      <td>1</td>\n",
       "    </tr>\n",
       "    <tr>\n",
       "      <th>4</th>\n",
       "      <td>4</td>\n",
       "      <td>1.679294</td>\n",
       "      <td>0.093956</td>\n",
       "      <td>0.179766</td>\n",
       "      <td>-0.395996</td>\n",
       "      <td>-0.295731</td>\n",
       "      <td>-0.177537</td>\n",
       "      <td>0.755102</td>\n",
       "      <td>-0.930414</td>\n",
       "      <td>-1.713237</td>\n",
       "      <td>1</td>\n",
       "      <td>1</td>\n",
       "    </tr>\n",
       "  </tbody>\n",
       "</table>\n",
       "</div>"
      ]
     },
     "execution_count": 51,
     "metadata": {},
     "output_type": "execute_result"
    }
   ],
   "execution_count": 51
  },
  {
   "metadata": {},
   "cell_type": "code",
   "outputs": [],
   "execution_count": null,
   "source": "",
   "id": "56a7decbfcf34ee4"
  },
  {
   "metadata": {
    "ExecuteTime": {
     "end_time": "2025-08-14T22:05:48.336630Z",
     "start_time": "2025-08-14T22:05:48.319285Z"
    }
   },
   "cell_type": "code",
   "source": [
    "#1. Instantiate a Logistic Regression classifier and assign it to lr.\n",
    "lr = LogisticRegression(random_state = 21)\n",
    "\n",
    "#2. Instantiate a KNN classifier that considers 27 nearest neighbors and assign it to knn.\n",
    "knn = KNN(n_neighbors = 27)\n",
    "\n",
    "#3. Instantiate a Decision Tree Classifier with the parameter min_samples_leaf set to 0.13 and assign it to dt.\n",
    "dt1 = DecisionTreeClassifier(min_samples_leaf = 0.13, random_state = 21)\n",
    "\n",
    "# Define the list classifiers\n",
    "classifiers = [('Logistic Regression', lr), ('K Nearest Neighbors', knn), ('Classification Tree', dt1)]"
   ],
   "id": "981a0cc3ad144616",
   "outputs": [],
   "execution_count": 46
  },
  {
   "metadata": {},
   "cell_type": "markdown",
   "source": [
    "Evaluating Test Accuracy of Individual Classifiers\n",
    "----\n",
    "Fit each model in the `classifiers` list on the training data (`X_train`, `y_train`).\n",
    "Use each fitted model to predict labels for `X_test`.\n",
    "Calculate the accuracy of each model using `accuracy_score()` by comparing predicted labels with `y_test`.\n",
    "Record and compare the accuracy values to determine the best-performing individual classifier.\n"
   ],
   "id": "9fd8e889c768d666"
  },
  {
   "metadata": {
    "ExecuteTime": {
     "end_time": "2025-08-14T22:14:31.479982Z",
     "start_time": "2025-08-14T22:14:31.329654Z"
    }
   },
   "cell_type": "code",
   "source": [
    "#1. Iterate over the tuples in classifiers. Use clf_name and clf as the for loop variables:\n",
    "for clf_name,clf in classifiers:\n",
    "    #2. Fit clf to the training set.\n",
    "    clf.fit(X_train, y_train)\n",
    "\n",
    "    #3. Predict clf's test set labels and assign the results to y_pred1.\n",
    "    y_pred1 = clf.preict(X_test)\n",
    "\n",
    "    accuracy = accuracy_score(y_test, y_pred1)\n",
    "\n",
    "    print('{:s} : {:.3f}'.format(clf_name, accuracy))"
   ],
   "id": "4889e022bb9c3d41",
   "outputs": [
    {
     "ename": "ValueError",
     "evalue": "Unknown label type: continuous. Maybe you are trying to fit a classifier, which expects discrete classes on a regression target with continuous values.",
     "output_type": "error",
     "traceback": [
      "\u001B[31m---------------------------------------------------------------------------\u001B[39m",
      "\u001B[31mValueError\u001B[39m                                Traceback (most recent call last)",
      "\u001B[36mCell\u001B[39m\u001B[36m \u001B[39m\u001B[32mIn[50]\u001B[39m\u001B[32m, line 4\u001B[39m\n\u001B[32m      1\u001B[39m \u001B[38;5;66;03m#1. Iterate over the tuples in classifiers. Use clf_name and clf as the for loop variables:\u001B[39;00m\n\u001B[32m      2\u001B[39m \u001B[38;5;28;01mfor\u001B[39;00m clf_name,clf \u001B[38;5;129;01min\u001B[39;00m classifiers:\n\u001B[32m      3\u001B[39m     \u001B[38;5;66;03m#2. Fit clf to the training set.\u001B[39;00m\n\u001B[32m----> \u001B[39m\u001B[32m4\u001B[39m     \u001B[43mclf\u001B[49m\u001B[43m.\u001B[49m\u001B[43mfit\u001B[49m\u001B[43m(\u001B[49m\u001B[43mX_train\u001B[49m\u001B[43m,\u001B[49m\u001B[43m \u001B[49m\u001B[43my_train\u001B[49m\u001B[43m)\u001B[49m\n\u001B[32m      6\u001B[39m     \u001B[38;5;66;03m#3. Predict clf's test set labels and assign the results to y_pred1.\u001B[39;00m\n\u001B[32m      7\u001B[39m     y_pred1 = clf.preict(X_test)\n",
      "\u001B[36mFile \u001B[39m\u001B[32m~\\AppData\\Local\\Packages\\PythonSoftwareFoundation.Python.3.11_qbz5n2kfra8p0\\LocalCache\\local-packages\\Python311\\site-packages\\sklearn\\base.py:1365\u001B[39m, in \u001B[36m_fit_context.<locals>.decorator.<locals>.wrapper\u001B[39m\u001B[34m(estimator, *args, **kwargs)\u001B[39m\n\u001B[32m   1358\u001B[39m     estimator._validate_params()\n\u001B[32m   1360\u001B[39m \u001B[38;5;28;01mwith\u001B[39;00m config_context(\n\u001B[32m   1361\u001B[39m     skip_parameter_validation=(\n\u001B[32m   1362\u001B[39m         prefer_skip_nested_validation \u001B[38;5;129;01mor\u001B[39;00m global_skip_validation\n\u001B[32m   1363\u001B[39m     )\n\u001B[32m   1364\u001B[39m ):\n\u001B[32m-> \u001B[39m\u001B[32m1365\u001B[39m     \u001B[38;5;28;01mreturn\u001B[39;00m \u001B[43mfit_method\u001B[49m\u001B[43m(\u001B[49m\u001B[43mestimator\u001B[49m\u001B[43m,\u001B[49m\u001B[43m \u001B[49m\u001B[43m*\u001B[49m\u001B[43margs\u001B[49m\u001B[43m,\u001B[49m\u001B[43m \u001B[49m\u001B[43m*\u001B[49m\u001B[43m*\u001B[49m\u001B[43mkwargs\u001B[49m\u001B[43m)\u001B[49m\n",
      "\u001B[36mFile \u001B[39m\u001B[32m~\\AppData\\Local\\Packages\\PythonSoftwareFoundation.Python.3.11_qbz5n2kfra8p0\\LocalCache\\local-packages\\Python311\\site-packages\\sklearn\\linear_model\\_logistic.py:1256\u001B[39m, in \u001B[36mLogisticRegression.fit\u001B[39m\u001B[34m(self, X, y, sample_weight)\u001B[39m\n\u001B[32m   1245\u001B[39m     _dtype = [np.float64, np.float32]\n\u001B[32m   1247\u001B[39m X, y = validate_data(\n\u001B[32m   1248\u001B[39m     \u001B[38;5;28mself\u001B[39m,\n\u001B[32m   1249\u001B[39m     X,\n\u001B[32m   (...)\u001B[39m\u001B[32m   1254\u001B[39m     accept_large_sparse=solver \u001B[38;5;129;01mnot\u001B[39;00m \u001B[38;5;129;01min\u001B[39;00m [\u001B[33m\"\u001B[39m\u001B[33mliblinear\u001B[39m\u001B[33m\"\u001B[39m, \u001B[33m\"\u001B[39m\u001B[33msag\u001B[39m\u001B[33m\"\u001B[39m, \u001B[33m\"\u001B[39m\u001B[33msaga\u001B[39m\u001B[33m\"\u001B[39m],\n\u001B[32m   1255\u001B[39m )\n\u001B[32m-> \u001B[39m\u001B[32m1256\u001B[39m \u001B[43mcheck_classification_targets\u001B[49m\u001B[43m(\u001B[49m\u001B[43my\u001B[49m\u001B[43m)\u001B[49m\n\u001B[32m   1257\u001B[39m \u001B[38;5;28mself\u001B[39m.classes_ = np.unique(y)\n\u001B[32m   1259\u001B[39m \u001B[38;5;66;03m# TODO(1.8) remove multi_class\u001B[39;00m\n",
      "\u001B[36mFile \u001B[39m\u001B[32m~\\AppData\\Local\\Packages\\PythonSoftwareFoundation.Python.3.11_qbz5n2kfra8p0\\LocalCache\\local-packages\\Python311\\site-packages\\sklearn\\utils\\multiclass.py:221\u001B[39m, in \u001B[36mcheck_classification_targets\u001B[39m\u001B[34m(y)\u001B[39m\n\u001B[32m    213\u001B[39m y_type = type_of_target(y, input_name=\u001B[33m\"\u001B[39m\u001B[33my\u001B[39m\u001B[33m\"\u001B[39m)\n\u001B[32m    214\u001B[39m \u001B[38;5;28;01mif\u001B[39;00m y_type \u001B[38;5;129;01mnot\u001B[39;00m \u001B[38;5;129;01min\u001B[39;00m [\n\u001B[32m    215\u001B[39m     \u001B[33m\"\u001B[39m\u001B[33mbinary\u001B[39m\u001B[33m\"\u001B[39m,\n\u001B[32m    216\u001B[39m     \u001B[33m\"\u001B[39m\u001B[33mmulticlass\u001B[39m\u001B[33m\"\u001B[39m,\n\u001B[32m   (...)\u001B[39m\u001B[32m    219\u001B[39m     \u001B[33m\"\u001B[39m\u001B[33mmultilabel-sequences\u001B[39m\u001B[33m\"\u001B[39m,\n\u001B[32m    220\u001B[39m ]:\n\u001B[32m--> \u001B[39m\u001B[32m221\u001B[39m     \u001B[38;5;28;01mraise\u001B[39;00m \u001B[38;5;167;01mValueError\u001B[39;00m(\n\u001B[32m    222\u001B[39m         \u001B[33mf\u001B[39m\u001B[33m\"\u001B[39m\u001B[33mUnknown label type: \u001B[39m\u001B[38;5;132;01m{\u001B[39;00my_type\u001B[38;5;132;01m}\u001B[39;00m\u001B[33m. Maybe you are trying to fit a \u001B[39m\u001B[33m\"\u001B[39m\n\u001B[32m    223\u001B[39m         \u001B[33m\"\u001B[39m\u001B[33mclassifier, which expects discrete classes on a \u001B[39m\u001B[33m\"\u001B[39m\n\u001B[32m    224\u001B[39m         \u001B[33m\"\u001B[39m\u001B[33mregression target with continuous values.\u001B[39m\u001B[33m\"\u001B[39m\n\u001B[32m    225\u001B[39m     )\n",
      "\u001B[31mValueError\u001B[39m: Unknown label type: continuous. Maybe you are trying to fit a classifier, which expects discrete classes on a regression target with continuous values."
     ]
    }
   ],
   "execution_count": 50
  },
  {
   "metadata": {},
   "cell_type": "code",
   "outputs": [],
   "execution_count": null,
   "source": "",
   "id": "c18a8eb93fb6e7cc"
  }
 ],
 "metadata": {
  "kernelspec": {
   "display_name": "Python 3",
   "language": "python",
   "name": "python3"
  },
  "language_info": {
   "codemirror_mode": {
    "name": "ipython",
    "version": 2
   },
   "file_extension": ".py",
   "mimetype": "text/x-python",
   "name": "python",
   "nbconvert_exporter": "python",
   "pygments_lexer": "ipython2",
   "version": "2.7.6"
  }
 },
 "nbformat": 4,
 "nbformat_minor": 5
}
